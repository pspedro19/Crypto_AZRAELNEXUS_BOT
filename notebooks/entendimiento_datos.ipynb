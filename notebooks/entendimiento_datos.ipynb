{
 "cells": [
  {
   "cell_type": "code",
   "execution_count": 2,
   "id": "initial_id",
   "metadata": {
    "ExecuteTime": {
     "end_time": "2024-09-27T00:06:07.402803Z",
     "start_time": "2024-09-27T00:06:06.654631Z"
    },
    "collapsed": true
   },
   "outputs": [],
   "source": [
    "import pandas as pd\n",
    "import numpy as np\n",
    "import re\n",
    "import matplotlib.pyplot as plt\n",
    "from datetime import datetime, timedelta\n",
    "\n",
    "from pymongo import MongoClient\n",
    "from deep_translator import GoogleTranslator"
   ]
  },
  {
   "cell_type": "markdown",
   "id": "1965223ca32dc08",
   "metadata": {},
   "source": [
    "# Definicion de Funciones"
   ]
  },
  {
   "cell_type": "code",
   "execution_count": 3,
   "id": "bd40e9705723025",
   "metadata": {
    "ExecuteTime": {
     "end_time": "2024-09-27T00:06:07.416371Z",
     "start_time": "2024-09-27T00:06:07.412922Z"
    }
   },
   "outputs": [],
   "source": [
    "def query_mongodb(collection: str = '', query_json: dict = {}, query_project: dict = {}, limit: int = 0):\n",
    "    # Define MongoDB parameters\n",
    "    mongo_srv_uri = 'mongodb://localhost:27017/'\n",
    "    mongo_user = ''\n",
    "    mongo_password = ''\n",
    "    mongo_db_name = 'facsat2'\n",
    "    mongo_collection_name = collection\n",
    "\n",
    "    try:\n",
    "        # Connect to MongoDB\n",
    "        client = MongoClient(\"mongodb://localhost:27017/\", connectTimeoutMS=30000)\n",
    "    \n",
    "        # Access the MongoDB database\n",
    "        db = client[mongo_db_name]\n",
    "        collection = db[mongo_collection_name]\n",
    "\n",
    "        # Perform MongoDB operations\n",
    "        result = collection.find(query_json, query_project).limit(limit) \n",
    "    except Exception as e:\n",
    "        print(\"No fue posible realizar la consulta\\nError:\\n\")\n",
    "        print(e)\n",
    "    \n",
    "    data = list(result) # pd.DataFrame(list(result))\n",
    "    return data"
   ]
  },
  {
   "cell_type": "code",
   "execution_count": 4,
   "id": "ea277fd099e671cb",
   "metadata": {
    "ExecuteTime": {
     "end_time": "2024-09-27T00:06:07.527643Z",
     "start_time": "2024-09-27T00:06:07.524552Z"
    }
   },
   "outputs": [],
   "source": [
    "def crear_dataframe(data):\n",
    "    df = pd.DataFrame(data)  # Crear un DataFrame inicial\n",
    "\n",
    "    # Función para crear nuevas columnas basadas en 'Param.Name'\n",
    "    def crear_columna(row):\n",
    "        new_row = row.copy()\n",
    "        new_row[row['Param']['Name']] = row['Val']\n",
    "        del new_row['Val']\n",
    "        # Agregar las columnas 'Node' y 'Table'\n",
    "        new_row['Node'] = row['Param']['Node']\n",
    "        new_row['Table'] = row['Param']['Table']\n",
    "        new_row['Index'] = row['Param']['Index'] if 'Index' in row['Param'] else np.nan\n",
    "        \n",
    "        return new_row\n",
    "\n",
    "    # Aplicar la función a cada fila y crear un nuevo DataFrame\n",
    "    df = df.apply(crear_columna, axis=1)\n",
    "\n",
    "    # Eliminar la columna 'Param' ya que sus valores han sido distribuidos\n",
    "    df = df.drop('Param', axis=1)\n",
    "\n",
    "    return df"
   ]
  },
  {
   "cell_type": "code",
   "execution_count": 33,
   "id": "3e28c78148546abc",
   "metadata": {
    "ExecuteTime": {
     "end_time": "2024-09-27T00:06:16.394474Z",
     "start_time": "2024-09-27T00:06:16.377260Z"
    }
   },
   "outputs": [],
   "source": [
    "def traducir_texto(cadena):\n",
    "    traducido = GoogleTranslator(source='en', target='es').translate(cadena)\n",
    "    return traducido\n",
    "\n",
    "# Función para verificar si un número es entero\n",
    "def es_entero(num):\n",
    "    if np.all(num == num.astype(int)):\n",
    "        tipo = 'int'\n",
    "    elif np.all(num == num.astype(float)):\n",
    "        tipo = 'float'\n",
    "    else:\n",
    "        'No Identificado'\n",
    "    return tipo\n",
    "\n",
    "def crear_diccionario_de_datos(data: dict = {}, info: dict = {}):\n",
    "\n",
    "    data_df = pd.json_normalize(data)\n",
    "    info_df = pd.json_normalize(info)\n",
    "    \n",
    "    try:\n",
    "        tipo_dato = data_df.copy()\n",
    "        tipo_dato['Tipo de Dato'] = tipo_dato.groupby(by=['Param.Name', 'Param.Node', 'Param.Table'], as_index=False)['Val'].transform(es_entero)\n",
    "        tipo_dato = tipo_dato.groupby(by=['Param.Name', 'Param.Node', 'Param.Table'])['Tipo de Dato'].first()\n",
    "        # Eliminar columnas que no son necesarias\n",
    "        data_df = data_df.drop(['_id', 'Ts', 'Val', 'Param.Satellite'], axis=1)\n",
    "        data_df.drop_duplicates(inplace=True, ignore_index=True)\n",
    "        info_df = info_df.drop(['_id', 'Param.Satellite'], axis=1)\n",
    "        info_df['HelpText'] = info_df['HelpText'].apply(traducir_texto)\n",
    "        \n",
    "        # Hacer merge de dataframe info_df con data_df\n",
    "        data_df = data_df.merge(info_df, on=['Param.Node', 'Param.Table', 'Param.Name'], how='left')\n",
    "        data_df = data_df.merge(tipo_dato, on=['Param.Node', 'Param.Table', 'Param.Name'], how='left')\n",
    "        \n",
    "    except Exception as e:\n",
    "        print(e)\n",
    "\n",
    "    return data_df"
   ]
  },
  {
   "cell_type": "markdown",
   "id": "bb86f92d6afca2f4",
   "metadata": {},
   "source": [
    "# Consulta a la base de datos MongoDB"
   ]
  },
  {
   "cell_type": "code",
   "execution_count": 6,
   "id": "3b855a39acdb2e8d",
   "metadata": {
    "ExecuteTime": {
     "end_time": "2024-09-27T00:06:41.336609Z",
     "start_time": "2024-09-27T00:06:41.333768Z"
    }
   },
   "outputs": [],
   "source": [
    "ultima_fecha = datetime(2024, 8, 25, 0, 0)\n",
    "un_mes_atras = ultima_fecha - timedelta(days=1)\n",
    "timestamp_mes_atras = int(un_mes_atras.timestamp())"
   ]
  },
  {
   "cell_type": "code",
   "execution_count": 7,
   "id": "6c276a175d7cec19",
   "metadata": {
    "ExecuteTime": {
     "end_time": "2024-09-27T00:06:43.643582Z",
     "start_time": "2024-09-27T00:06:43.638784Z"
    }
   },
   "outputs": [],
   "source": [
    "acronimos = {\n",
    "  \"ADCS\": {\n",
    "    \"significado\": \"Attitude Determination and Control System\",\n",
    "    \"descripcion\": \"Sistema responsable de la determinación y control de la actitud del satélite, utilizando sensores y actuadores para orientar el satélite en el espacio.\"\n",
    "  },\n",
    "  \"OBC\": {\n",
    "    \"significado\": \"On-Board Computer\",\n",
    "    \"descripcion\": \"Computador de a bordo que gestiona las operaciones del satélite y el procesamiento de datos.\"\n",
    "  },\n",
    "  \"EPS\": {\n",
    "    \"significado\": \"Electrical Power System\",\n",
    "    \"descripcion\": \"Sistema encargado de la gestión de la energía eléctrica del satélite, incluyendo la distribución y el almacenamiento en baterías.\"\n",
    "  },\n",
    "  \"PDU\": {\n",
    "    \"significado\": \"Power Distribution Unit\",\n",
    "    \"descripcion\": \"Unidad responsable de distribuir energía a los diferentes subsistemas del satélite.\"\n",
    "  },\n",
    "  \"BPX\": {\n",
    "    \"significado\": \"Battery Pack\",\n",
    "    \"descripcion\": \"Paquete de baterías que almacena la energía para el funcionamiento del satélite.\"\n",
    "  },\n",
    "  \"FSS\": {\n",
    "    \"significado\": \"Fine Sun Sensor\",\n",
    "    \"descripcion\": \"Sensor solar fino que detecta la posición del sol para ajustar la orientación del satélite.\"\n",
    "  },\n",
    "  \"CSS\": {\n",
    "    \"significado\": \"Coarse Sun Sensor\",\n",
    "    \"descripcion\": \"Sensor solar grueso utilizado para determinar la posición general del sol.\"\n",
    "  },\n",
    "  \"MS100\": {\n",
    "    \"significado\": \"MultiScape 100\",\n",
    "    \"descripcion\": \"Sensor de la carga útil del satélite que captura imágenes o datos relacionados con la misión.\"\n",
    "  },\n",
    "  \"A2K\": {\n",
    "    \"significado\": \"Argus 2000\",\n",
    "    \"descripcion\": \"Sensor avanzado utilizado en la carga útil del satélite para la adquisición de datos científicos.\"\n",
    "  },\n",
    "  \"CSP\": {\n",
    "    \"significado\": \"CubeSat Space Protocol\",\n",
    "    \"descripcion\": \"Protocolo de comunicaciones utilizado para interconectar los sistemas a bordo de CubeSats.\"\n",
    "  },\n",
    "  \"RW\": {\n",
    "    \"significado\": \"Reaction Wheel\",\n",
    "    \"descripcion\": \"Rueda de reacción utilizada para controlar la orientación del satélite sin necesidad de utilizar propulsores.\"\n",
    "  },\n",
    "  \"AFE\": {\n",
    "    \"significado\": \"Analog Front-End\",\n",
    "    \"descripcion\": \"Interfaz analógica utilizada para la conversión y procesamiento de señales analógicas en el satélite.\"\n",
    "  },\n",
    "  \"SDR\": {\n",
    "    \"significado\": \"Software Defined Radio\",\n",
    "    \"descripcion\": \"Radio definida por software que permite la reconfiguración y modulación de señales de comunicación.\"\n",
    "  },\n",
    "  \"TLE\": {\n",
    "    \"significado\": \"Two-Line Element Set\",\n",
    "    \"descripcion\": \"Conjunto de dos líneas que contienen los parámetros orbitales necesarios para rastrear el satélite.\"\n",
    "  },\n",
    "  \"GPS\": {\n",
    "    \"significado\": \"Global Positioning System\",\n",
    "    \"descripcion\": \"Sistema de posicionamiento global utilizado para determinar la posición y velocidad del satélite.\"\n",
    "  },\n",
    "  \"I2C\": {\n",
    "    \"significado\": \"Inter-Integrated Circuit\",\n",
    "    \"descripcion\": \"Protocolo de comunicación entre circuitos integrados que permite la transmisión de datos entre dispositivos del satélite.\"\n",
    "  },\n",
    "  \"UART\": {\n",
    "    \"significado\": \"Universal Asynchronous Receiver-Transmitter\",\n",
    "    \"descripcion\": \"Receptor-transmisor asincrónico universal utilizado para la transmisión de datos serie en el satélite.\"\n",
    "  },\n",
    "  \"HK\": {\n",
    "    \"significado\": \"Housekeeping\",\n",
    "    \"descripcion\": \"Telemetría básica que monitorea las condiciones esenciales del satélite, como temperatura y energía.\"\n",
    "  },\n",
    "  \"XT8250\": {\n",
    "    \"significado\": \"XT8250\",\n",
    "    \"descripcion\": \"Modelo de procesador o sistema utilizado en el satélite para el control de la carga útil.\"\n",
    "  },\n",
    "  \"DVBS2\": {\n",
    "    \"significado\": \"Digital Video Broadcasting - Satellite Second Generation\",\n",
    "    \"descripcion\": \"Sistema de modulación digital utilizado para la transmisión de datos a través de satélites de segunda generación.\"\n",
    "  }\n",
    "}\n"
   ]
  },
  {
   "cell_type": "code",
   "execution_count": 8,
   "id": "f56639dca4ee2185",
   "metadata": {
    "ExecuteTime": {
     "end_time": "2024-09-27T00:06:47.558337Z",
     "start_time": "2024-09-27T00:06:47.554829Z"
    }
   },
   "outputs": [],
   "source": [
    "nodos = {\n",
    "    \"OBC\": 1,\n",
    "    \"ADCS\": 4,\n",
    "    \"AX2150\": 5,\n",
    "    \"P60 DOCK\": 6,\n",
    "    \"P60 PDU 1\": 7,\n",
    "    \"P60 PDU 2\": 8,\n",
    "    \"P60 ACU\": 10,\n",
    "    \"XT8250 MONITOR\": 12,\n",
    "    \"mddvbs2-control-app\": 14,\n",
    "    \"BPX 1\": 16,\n",
    "    \"BPX 2\": 17,\n",
    "    \"Payload App\": 20,\n",
    "    \"Payload OBC MONITOR\": 22,\n",
    "    \"AFE8250\": 23\n",
    "  }"
   ]
  },
  {
   "cell_type": "code",
   "execution_count": 11,
   "id": "ba64c8e64e659ee1",
   "metadata": {
    "ExecuteTime": {
     "end_time": "2024-09-27T00:06:56.280390Z",
     "start_time": "2024-09-27T00:06:56.020861Z"
    }
   },
   "outputs": [],
   "source": [
    "node_6 = query_mongodb('ParamData', {\"Param.Node\": 4, \"Ts\": { \"$gte\": timestamp_mes_atras}}, limit=0)\n",
    "node_6_info = query_mongodb('ParamInfo', {\"Param.Node\": 4}, {\"HelpText\": 1, \"Param\": 1 }, limit=0)"
   ]
  },
  {
   "cell_type": "code",
   "execution_count": 31,
   "id": "608ff4bfb53619ef",
   "metadata": {
    "ExecuteTime": {
     "end_time": "2024-09-27T00:16:06.512762Z",
     "start_time": "2024-09-27T00:12:52.250851Z"
    }
   },
   "outputs": [],
   "source": [
    "a = crear_diccionario_de_datos(node_6, node_6_info)"
   ]
  },
  {
   "cell_type": "code",
   "execution_count": 34,
   "id": "314466ce6a4d8b70",
   "metadata": {
    "ExecuteTime": {
     "end_time": "2024-09-22T05:02:48.192575Z",
     "start_time": "2024-09-22T04:50:20.749708Z"
    }
   },
   "outputs": [
    {
     "name": "stdout",
     "output_type": "stream",
     "text": [
      "Nodo evaluado: OBC: 1\n",
      "Nodo evaluado: ADCS: 4\n",
      "Nodo evaluado: AX2150: 5\n",
      "Nodo evaluado: P60 DOCK: 6\n",
      "Nodo evaluado: P60 PDU 1: 7\n",
      "Nodo evaluado: P60 PDU 2: 8\n",
      "Nodo evaluado: P60 ACU: 10\n",
      "Nodo evaluado: XT8250 MONITOR: 12\n",
      "'Param.Name'\n",
      "Nodo evaluado: mddvbs2-control-app: 14\n",
      "Nodo evaluado: BPX 1: 16\n",
      "'Param.Name'\n",
      "Nodo evaluado: BPX 2: 17\n",
      "'Param.Name'\n",
      "Nodo evaluado: Payload App: 20\n",
      "Nodo evaluado: Payload OBC MONITOR: 22\n",
      "'Param.Name'\n",
      "Nodo evaluado: AFE8250: 23\n"
     ]
    }
   ],
   "source": [
    "dataframe_final = pd.DataFrame()\n",
    "\n",
    "for clave, valor in nodos.items():\n",
    "    print(f\"Nodo evaluado: {clave}: {valor}\")\n",
    "    node = query_mongodb('ParamData', {\"Param.Node\": valor, \"Ts\": { \"$gte\": timestamp_mes_atras}}, limit=0)\n",
    "    node_info = query_mongodb('ParamInfo', {\"Param.Node\": valor}, {\"HelpText\": 1, \"Param\": 1 }, limit=0)\n",
    "    diccionario = crear_diccionario_de_datos(node, node_info)\n",
    "    diccionario.insert(0, 'Sistema', [clave]*len(diccionario))\n",
    "    dataframe_final = pd.concat([dataframe_final, diccionario])\n",
    "\n",
    "dataframe_final[\"Param.Node\"] = dataframe_final[\"Param.Node\"].astype(int)\n",
    "dataframe_final.rename(columns={\"Param.Node\": \"Nodo\", \"Param.Index\": \"Canal/Item\", \"Param.Name\": \"Variable\", \"Param.Table\": \"Tabla Beacon\", \"HelpText\": \"Descripcion\"}, inplace=True)\n",
    "dataframe_final.to_csv(\"/outputs/diccionario_de_datos.xlsx\", index=False)"
   ]
  },
  {
   "cell_type": "code",
   "execution_count": 29,
   "id": "32ddec383d9b40e2",
   "metadata": {
    "ExecuteTime": {
     "end_time": "2024-09-19T06:13:47.348418Z",
     "start_time": "2024-09-19T06:13:47.309466Z"
    }
   },
   "outputs": [
    {
     "data": {
      "text/html": [
       "<div>\n",
       "<style scoped>\n",
       "    .dataframe tbody tr th:only-of-type {\n",
       "        vertical-align: middle;\n",
       "    }\n",
       "\n",
       "    .dataframe tbody tr th {\n",
       "        vertical-align: top;\n",
       "    }\n",
       "\n",
       "    .dataframe thead th {\n",
       "        text-align: right;\n",
       "    }\n",
       "</style>\n",
       "<table border=\"1\" class=\"dataframe\">\n",
       "  <thead>\n",
       "    <tr style=\"text-align: right;\">\n",
       "      <th></th>\n",
       "      <th>Param.Node</th>\n",
       "      <th>Param.Table</th>\n",
       "      <th>Param.Index</th>\n",
       "    </tr>\n",
       "  </thead>\n",
       "  <tbody>\n",
       "    <tr>\n",
       "      <th>count</th>\n",
       "      <td>171900.000000</td>\n",
       "      <td>171900.000000</td>\n",
       "      <td>121041.000000</td>\n",
       "    </tr>\n",
       "    <tr>\n",
       "      <th>mean</th>\n",
       "      <td>6.675422</td>\n",
       "      <td>50.357627</td>\n",
       "      <td>3.692393</td>\n",
       "    </tr>\n",
       "    <tr>\n",
       "      <th>std</th>\n",
       "      <td>3.807787</td>\n",
       "      <td>67.273079</td>\n",
       "      <td>3.599921</td>\n",
       "    </tr>\n",
       "    <tr>\n",
       "      <th>min</th>\n",
       "      <td>1.000000</td>\n",
       "      <td>1.000000</td>\n",
       "      <td>0.000000</td>\n",
       "    </tr>\n",
       "    <tr>\n",
       "      <th>25%</th>\n",
       "      <td>4.000000</td>\n",
       "      <td>4.000000</td>\n",
       "      <td>1.000000</td>\n",
       "    </tr>\n",
       "    <tr>\n",
       "      <th>50%</th>\n",
       "      <td>6.000000</td>\n",
       "      <td>4.000000</td>\n",
       "      <td>3.000000</td>\n",
       "    </tr>\n",
       "    <tr>\n",
       "      <th>75%</th>\n",
       "      <td>7.000000</td>\n",
       "      <td>150.000000</td>\n",
       "      <td>6.000000</td>\n",
       "    </tr>\n",
       "    <tr>\n",
       "      <th>max</th>\n",
       "      <td>23.000000</td>\n",
       "      <td>156.000000</td>\n",
       "      <td>23.000000</td>\n",
       "    </tr>\n",
       "  </tbody>\n",
       "</table>\n",
       "</div>"
      ],
      "text/plain": [
       "          Param.Node    Param.Table    Param.Index\n",
       "count  171900.000000  171900.000000  121041.000000\n",
       "mean        6.675422      50.357627       3.692393\n",
       "std         3.807787      67.273079       3.599921\n",
       "min         1.000000       1.000000       0.000000\n",
       "25%         4.000000       4.000000       1.000000\n",
       "50%         6.000000       4.000000       3.000000\n",
       "75%         7.000000     150.000000       6.000000\n",
       "max        23.000000     156.000000      23.000000"
      ]
     },
     "execution_count": 29,
     "metadata": {},
     "output_type": "execute_result"
    }
   ],
   "source": [
    "dataframe_final.describe()"
   ]
  },
  {
   "cell_type": "code",
   "execution_count": 40,
   "id": "1c160ee6e20109e7",
   "metadata": {
    "ExecuteTime": {
     "end_time": "2024-09-19T06:44:01.403891Z",
     "start_time": "2024-09-19T06:44:01.393808Z"
    }
   },
   "outputs": [],
   "source": [
    "acronimos = pd.DataFrame.from_dict(acronimos, orient='index')"
   ]
  },
  {
   "cell_type": "code",
   "execution_count": 48,
   "id": "b0b60154d8b5a442",
   "metadata": {
    "ExecuteTime": {
     "end_time": "2024-09-19T07:07:09.355124Z",
     "start_time": "2024-09-19T07:07:09.345793Z"
    }
   },
   "outputs": [],
   "source": "acronimos.to_csv(\"/outputs/tabla_acronimos.xlsx\", index_label=\"Acronimo\")"
  }
 ],
 "metadata": {
  "kernelspec": {
   "display_name": ".venv",
   "language": "python",
   "name": "python3"
  },
  "language_info": {
   "codemirror_mode": {
    "name": "ipython",
    "version": 3
   },
   "file_extension": ".py",
   "mimetype": "text/x-python",
   "name": "python",
   "nbconvert_exporter": "python",
   "pygments_lexer": "ipython3",
   "version": "3.10.12"
  }
 },
 "nbformat": 4,
 "nbformat_minor": 5
}
